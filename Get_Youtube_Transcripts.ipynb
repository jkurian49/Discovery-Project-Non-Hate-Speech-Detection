{
  "nbformat": 4,
  "nbformat_minor": 0,
  "metadata": {
    "colab": {
      "name": "Get Youtube Transcripts.ipynb",
      "provenance": [],
      "collapsed_sections": [],
      "machine_shape": "hm",
      "include_colab_link": true
    },
    "kernelspec": {
      "name": "python3",
      "display_name": "Python 3"
    },
    "accelerator": "GPU"
  },
  "cells": [
    {
      "cell_type": "markdown",
      "metadata": {
        "id": "view-in-github",
        "colab_type": "text"
      },
      "source": [
        "<a href=\"https://colab.research.google.com/github/jkurian49/Discovery-Project-Non-Hate-Speech-Detection/blob/main/Get_Youtube_Transcripts.ipynb\" target=\"_parent\"><img src=\"https://colab.research.google.com/assets/colab-badge.svg\" alt=\"Open In Colab\"/></a>"
      ]
    },
    {
      "cell_type": "code",
      "metadata": {
        "id": "IRW-H8glWR7k"
      },
      "source": [
        "!pip install youtube_transcript_api\n",
        "from youtube_transcript_api import YouTubeTranscriptApi"
      ],
      "execution_count": null,
      "outputs": []
    },
    {
      "cell_type": "code",
      "metadata": {
        "id": "szMk52efWjI8"
      },
      "source": [
        "# code adapted from https://stackoverflow.com/questions/42867732/getting-youtube-auto-transcript-from-api\n",
        "\n",
        "# put YouTube video IDs one on each line \n",
        "videoListName = \"civ_videos4.txt\"\n",
        "with open(videoListName) as inFile:\n",
        "    video_ids = inFile.read().splitlines()\n",
        "\n",
        "transcript_list, unretrievable_videos = YouTubeTranscriptApi.get_transcripts(video_ids, continue_after_error=True)\n",
        "\n",
        "with open('transcripts.txt', 'w+') as outFile:\n",
        "  for video_id in video_ids:\n",
        "      if video_id in transcript_list.keys():\n",
        "\n",
        "          srt = transcript_list.get(video_id)\n",
        "\n",
        "          text_list = []\n",
        "          for i in srt:\n",
        "              text_list.append(i['text'])\n",
        "\n",
        "          text = ' '.join(text_list)\n",
        "          outFile.write(\"Video_ID: \" + str(video_id) + \"\\n\")\n",
        "          outFile.write(text + \"\\n\")"
      ],
      "execution_count": null,
      "outputs": []
    }
  ]
}